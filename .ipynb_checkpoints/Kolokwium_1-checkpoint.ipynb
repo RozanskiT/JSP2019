{
 "cells": [
  {
   "cell_type": "markdown",
   "metadata": {},
   "source": [
    "## Zadanie 1"
   ]
  },
  {
   "cell_type": "code",
   "execution_count": 2,
   "metadata": {},
   "outputs": [],
   "source": [
    "def polynomial(x, a):\n",
    "    return sum([aa * x**i for i, aa in enumerate(a)])\n",
    "\n",
    "def polynomial_Horner(x, a):\n",
    "    y = 0\n",
    "    for a in a[::-1]:\n",
    "        y = a + x*y\n",
    "    return y"
   ]
  },
  {
   "cell_type": "code",
   "execution_count": 9,
   "metadata": {},
   "outputs": [
    {
     "name": "stdout",
     "output_type": "stream",
     "text": [
      "1.090e-04 +/- 1.535e-05\n",
      "6.268e-05 +/- 2.163e-06\n"
     ]
    }
   ],
   "source": [
    "import numpy as np\n",
    "import time\n",
    "def measure_time(x, N, function, M=10, verbose=False):\n",
    "    times = []\n",
    "    for _ in range(M):\n",
    "        A = np.random.random(N)\n",
    "        test_A = sorted(A)\n",
    "\n",
    "        start = time.time()\n",
    "        function(x, A)\n",
    "        dt = time.time() - start\n",
    "\n",
    "        times.append(dt)\n",
    "        \n",
    "    return np.mean(times), np.std(times)\n",
    "\n",
    "N = 100\n",
    "print(\"{:.3e} +/- {:.3e}\".format(*measure_time(1, N, polynomial, M=10)))\n",
    "print(\"{:.3e} +/- {:.3e}\".format(*measure_time(1, N, polynomial_Horner, M=10)))"
   ]
  },
  {
   "cell_type": "markdown",
   "metadata": {},
   "source": [
    "## Zadanie 2"
   ]
  },
  {
   "cell_type": "code",
   "execution_count": 19,
   "metadata": {},
   "outputs": [
    {
     "name": "stdout",
     "output_type": "stream",
     "text": [
      "17\n",
      "115\n"
     ]
    }
   ],
   "source": [
    "def poly(x,*A):\n",
    "    return sum([a*x**i for i,a in enumerate(A)])\n",
    "\n",
    "def poly_horner(x,*A):\n",
    "    y = A[-1]\n",
    "    for a in A[::-1]:\n",
    "        y += a + x * y\n",
    "    return y\n",
    "\n",
    "print(poly(2,1,2,3))\n",
    "print(poly_horner(2,1,2,3))"
   ]
  },
  {
   "cell_type": "markdown",
   "metadata": {},
   "source": [
    "## Zadanie 3"
   ]
  },
  {
   "cell_type": "code",
   "execution_count": null,
   "metadata": {},
   "outputs": [],
   "source": [
    "def check_anagram(w1, w2):\n",
    "    return sorted(w1.lower()) == sorted(w2.lower())"
   ]
  }
 ],
 "metadata": {
  "kernelspec": {
   "display_name": "Python 3",
   "language": "python",
   "name": "python3"
  },
  "language_info": {
   "codemirror_mode": {
    "name": "ipython",
    "version": 3
   },
   "file_extension": ".py",
   "mimetype": "text/x-python",
   "name": "python",
   "nbconvert_exporter": "python",
   "pygments_lexer": "ipython3",
   "version": "3.7.1"
  }
 },
 "nbformat": 4,
 "nbformat_minor": 2
}

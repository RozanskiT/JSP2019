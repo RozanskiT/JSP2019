{
 "cells": [
  {
   "cell_type": "code",
   "execution_count": 32,
   "metadata": {},
   "outputs": [],
   "source": [
    "import numpy as np\n",
    "import random"
   ]
  },
  {
   "cell_type": "code",
   "execution_count": 33,
   "metadata": {},
   "outputs": [],
   "source": [
    "def quick_sort_idx(A):\n",
    "    A = A[:]\n",
    "    idxs = np.arange(0,len(A))\n",
    "    _quick_sort_idx(A, idxs, 0, len(A)-1)\n",
    "    return idxs\n",
    "    \n",
    "def _quick_sort_idx(A, idxs, l, r):\n",
    "    if l < r:\n",
    "        p = partition_Lomuto_idx(A, idxs, l, r)\n",
    "        _quick_sort_idx(A,idxs, l, p-1)\n",
    "        _quick_sort_idx(A,idxs, p+1, r)\n",
    "    \n",
    "def partition_Lomuto_idx(A, idxs, lo, hi):\n",
    "    pivot = A[hi]\n",
    "    i = lo\n",
    "    for j in range(i, hi):\n",
    "        if A[j] < pivot:\n",
    "            A[i], A[j] = A[j], A[i]\n",
    "            idxs[i], idxs[j] = idxs[j], idxs[i]\n",
    "            i += 1\n",
    "    A[i], A[hi] = A[hi], A[i]\n",
    "    idxs[i], idxs[hi] = idxs[hi], idxs[i]\n",
    "    return i"
   ]
  },
  {
   "cell_type": "code",
   "execution_count": 1,
   "metadata": {},
   "outputs": [],
   "source": [
    "# Ver 2\n",
    "def argsort(unsorted_list):\n",
    "    return sorted(range(len(unsorted_list)),key=unsorted_list.__getitem__)"
   ]
  },
  {
   "cell_type": "code",
   "execution_count": 34,
   "metadata": {},
   "outputs": [],
   "source": [
    "N = 10\n",
    "M = 100\n",
    "l = random.sample(range(M+1), N)\n",
    "\n",
    "sorted_idx = np.argsort(l)\n",
    "my_sorted_idx = quick_sort_idx(l)\n",
    "\n",
    "assert all([x==y for x,y in zip(sorted_idx,my_sorted_idx)] + [len(sorted_idx)==len(my_sorted_idx)])"
   ]
  }
 ],
 "metadata": {
  "kernelspec": {
   "display_name": "Python 3",
   "language": "python",
   "name": "python3"
  },
  "language_info": {
   "codemirror_mode": {
    "name": "ipython",
    "version": 3
   },
   "file_extension": ".py",
   "mimetype": "text/x-python",
   "name": "python",
   "nbconvert_exporter": "python",
   "pygments_lexer": "ipython3",
   "version": "3.7.1"
  }
 },
 "nbformat": 4,
 "nbformat_minor": 2
}

{
 "cells": [
  {
   "cell_type": "code",
   "execution_count": 1,
   "metadata": {},
   "outputs": [],
   "source": [
    "import functools\n",
    "lista_1 = [20, 11, [5,-8],[1,20],5,[-19,-8],-10,[7,-19],-15,[6,-12],[-17,9],2]\n",
    "lista_2 = [-1,-3,7,9,[0,2],[2,4],[-1,0]]\n",
    "\n",
    "correct_1 = [2, 5, -10, 11, -15, 20, [1, 20], [5, -8], [6, -12], [7, -19], [-17, 9], [-19, -8]]\n",
    "correct_2 = [-1, -3, 7, 9, [0, 2], [-1, 0], [2, 4]]"
   ]
  },
  {
   "cell_type": "code",
   "execution_count": 2,
   "metadata": {},
   "outputs": [],
   "source": [
    "def compare(x, y):\n",
    "    if type(x) != type(y):\n",
    "        return (1 if type(x) == list else -1)\n",
    "    else:\n",
    "        if type(x) == int or type(x) == float:\n",
    "            return compare_numbers(abs(x),abs(y))\n",
    "        else:\n",
    "            return compare_numbers(abs(x[0]),abs(y[0]))\n",
    "\n",
    "def compare_numbers(x,y):\n",
    "    if y>x:\n",
    "        return -1\n",
    "    elif x>y:\n",
    "        return 1\n",
    "    else:\n",
    "        return 0"
   ]
  },
  {
   "cell_type": "code",
   "execution_count": 3,
   "metadata": {},
   "outputs": [
    {
     "name": "stdout",
     "output_type": "stream",
     "text": [
      "[-1, -3, 7, 9, [0, 2], [-1, 0], [2, 4]]\n"
     ]
    }
   ],
   "source": [
    "# using:\n",
    "# https://docs.python.org/3/library/functions.html#sorted\n",
    "# https://stackoverflow.com/a/23756830\n",
    "# https://docs.python.org/2/library/functions.html#sorted\n",
    "sorted_1 = sorted(lista_1, key=functools.cmp_to_key(compare))\n",
    "sorted_2 = sorted(lista_2, key=functools.cmp_to_key(compare))\n",
    "print(sorted_2)"
   ]
  },
  {
   "cell_type": "code",
   "execution_count": 4,
   "metadata": {},
   "outputs": [],
   "source": [
    "assert all([x==y for x,y in zip(correct_1,sorted_1)] + [len(correct_1)==len(sorted_1)])\n",
    "assert all([x==y for x,y in zip(correct_2,sorted_2)] + [len(correct_2)==len(sorted_2)])"
   ]
  },
  {
   "cell_type": "code",
   "execution_count": null,
   "metadata": {},
   "outputs": [],
   "source": []
  }
 ],
 "metadata": {
  "kernelspec": {
   "display_name": "Python 3",
   "language": "python",
   "name": "python3"
  },
  "language_info": {
   "codemirror_mode": {
    "name": "ipython",
    "version": 3
   },
   "file_extension": ".py",
   "mimetype": "text/x-python",
   "name": "python",
   "nbconvert_exporter": "python",
   "pygments_lexer": "ipython3",
   "version": "3.7.1"
  }
 },
 "nbformat": 4,
 "nbformat_minor": 2
}
